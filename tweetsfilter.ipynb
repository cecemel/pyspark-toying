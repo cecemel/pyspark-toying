{
 "cells": [
  {
   "cell_type": "code",
   "execution_count": 29,
   "metadata": {
    "collapsed": false
   },
   "outputs": [
    {
     "name": "stdout",
     "output_type": "stream",
     "text": [
      "Populating the interactive namespace from numpy and matplotlib\n"
     ]
    }
   ],
   "source": [
    "%pylab inline"
   ]
  },
  {
   "cell_type": "code",
   "execution_count": 30,
   "metadata": {
    "collapsed": false
   },
   "outputs": [],
   "source": [
    "from pyspark import SparkContext, SparkConf\n",
    "from datetime import datetime\n",
    "from timeit import timeit\n"
   ]
  },
  {
   "cell_type": "code",
   "execution_count": 1,
   "metadata": {
    "collapsed": false,
    "scrolled": true
   },
   "outputs": [
    {
     "name": "stdout",
     "output_type": "stream",
     "text": [
      "root\n",
      " |-- created_at: long (nullable = true)\n",
      " |-- entities: struct (nullable = true)\n",
      " |    |-- hashtags: array (nullable = true)\n",
      " |    |    |-- element: struct (containsNull = true)\n",
      " |    |    |    |-- indices: array (nullable = true)\n",
      " |    |    |    |    |-- element: long (containsNull = true)\n",
      " |    |    |    |-- text: string (nullable = true)\n",
      " |    |-- media: array (nullable = true)\n",
      " |    |    |-- element: struct (containsNull = true)\n",
      " |    |    |    |-- display_url: string (nullable = true)\n",
      " |    |    |    |-- expanded_url: string (nullable = true)\n",
      " |    |    |    |-- id: long (nullable = true)\n",
      " |    |    |    |-- id_str: string (nullable = true)\n",
      " |    |    |    |-- indices: array (nullable = true)\n",
      " |    |    |    |    |-- element: long (containsNull = true)\n",
      " |    |    |    |-- media_url: string (nullable = true)\n",
      " |    |    |    |-- media_url_https: string (nullable = true)\n",
      " |    |    |    |-- sizes: array (nullable = true)\n",
      " |    |    |    |    |-- element: struct (containsNull = true)\n",
      " |    |    |    |    |    |-- h: long (nullable = true)\n",
      " |    |    |    |    |    |-- resize: string (nullable = true)\n",
      " |    |    |    |    |    |-- w: long (nullable = true)\n",
      " |    |    |    |-- url: string (nullable = true)\n",
      " |    |-- urls: array (nullable = true)\n",
      " |    |    |-- element: struct (containsNull = true)\n",
      " |    |    |    |-- display_url: string (nullable = true)\n",
      " |    |    |    |-- expanded_url: string (nullable = true)\n",
      " |    |    |    |-- indices: array (nullable = true)\n",
      " |    |    |    |    |-- element: long (containsNull = true)\n",
      " |    |    |    |-- url: string (nullable = true)\n",
      " |    |-- user_mentions: array (nullable = true)\n",
      " |    |    |-- element: struct (containsNull = true)\n",
      " |    |    |    |-- id: long (nullable = true)\n",
      " |    |    |    |-- id_str: string (nullable = true)\n",
      " |    |    |    |-- indices: array (nullable = true)\n",
      " |    |    |    |    |-- element: long (containsNull = true)\n",
      " |    |    |    |-- name: string (nullable = true)\n",
      " |    |    |    |-- screen_name: string (nullable = true)\n",
      " |-- geo: struct (nullable = true)\n",
      " |    |-- coordinates: array (nullable = true)\n",
      " |    |    |-- element: double (containsNull = true)\n",
      " |    |-- type: string (nullable = true)\n",
      " |-- id: long (nullable = true)\n",
      " |-- id_str: long (nullable = true)\n",
      " |-- in_reply_to_screen_name: string (nullable = true)\n",
      " |-- in_reply_to_status_id: double (nullable = true)\n",
      " |-- in_reply_to_status_id_str: double (nullable = true)\n",
      " |-- in_reply_to_user_id: double (nullable = true)\n",
      " |-- in_reply_to_user_id_str: double (nullable = true)\n",
      " |-- retweeted_status: struct (nullable = true)\n",
      " |    |-- created_at: string (nullable = true)\n",
      " |    |-- entities: struct (nullable = true)\n",
      " |    |    |-- hashtags: array (nullable = true)\n",
      " |    |    |    |-- element: struct (containsNull = true)\n",
      " |    |    |    |    |-- indices: array (nullable = true)\n",
      " |    |    |    |    |    |-- element: long (containsNull = true)\n",
      " |    |    |    |    |-- text: string (nullable = true)\n",
      " |    |    |-- media: array (nullable = true)\n",
      " |    |    |    |-- element: struct (containsNull = true)\n",
      " |    |    |    |    |-- display_url: string (nullable = true)\n",
      " |    |    |    |    |-- expanded_url: string (nullable = true)\n",
      " |    |    |    |    |-- id: long (nullable = true)\n",
      " |    |    |    |    |-- id_str: string (nullable = true)\n",
      " |    |    |    |    |-- indices: array (nullable = true)\n",
      " |    |    |    |    |    |-- element: long (containsNull = true)\n",
      " |    |    |    |    |-- media_url: string (nullable = true)\n",
      " |    |    |    |    |-- media_url_https: string (nullable = true)\n",
      " |    |    |    |    |-- sizes: array (nullable = true)\n",
      " |    |    |    |    |    |-- element: struct (containsNull = true)\n",
      " |    |    |    |    |    |    |-- h: long (nullable = true)\n",
      " |    |    |    |    |    |    |-- resize: string (nullable = true)\n",
      " |    |    |    |    |    |    |-- w: long (nullable = true)\n",
      " |    |    |    |    |-- url: string (nullable = true)\n",
      " |    |    |-- urls: array (nullable = true)\n",
      " |    |    |    |-- element: struct (containsNull = true)\n",
      " |    |    |    |    |-- display_url: string (nullable = true)\n",
      " |    |    |    |    |-- expanded_url: string (nullable = true)\n",
      " |    |    |    |    |-- indices: array (nullable = true)\n",
      " |    |    |    |    |    |-- element: long (containsNull = true)\n",
      " |    |    |    |    |-- url: string (nullable = true)\n",
      " |    |    |-- user_mentions: array (nullable = true)\n",
      " |    |    |    |-- element: struct (containsNull = true)\n",
      " |    |    |    |    |-- id: long (nullable = true)\n",
      " |    |    |    |    |-- id_str: string (nullable = true)\n",
      " |    |    |    |    |-- indices: array (nullable = true)\n",
      " |    |    |    |    |    |-- element: long (containsNull = true)\n",
      " |    |    |    |    |-- name: string (nullable = true)\n",
      " |    |    |    |    |-- screen_name: string (nullable = true)\n",
      " |    |-- geo: struct (nullable = true)\n",
      " |    |    |-- coordinates: array (nullable = true)\n",
      " |    |    |    |-- element: double (containsNull = true)\n",
      " |    |    |-- type: string (nullable = true)\n",
      " |    |-- id: long (nullable = true)\n",
      " |    |-- id_str: string (nullable = true)\n",
      " |    |-- in_reply_to_screen_name: string (nullable = true)\n",
      " |    |-- in_reply_to_status_id: long (nullable = true)\n",
      " |    |-- in_reply_to_status_id_str: string (nullable = true)\n",
      " |    |-- in_reply_to_user_id: long (nullable = true)\n",
      " |    |-- in_reply_to_user_id_str: string (nullable = true)\n",
      " |    |-- source: string (nullable = true)\n",
      " |    |-- text: string (nullable = true)\n",
      " |    |-- user: struct (nullable = true)\n",
      " |    |    |-- id: long (nullable = true)\n",
      " |    |    |-- id_str: string (nullable = true)\n",
      " |    |    |-- name: string (nullable = true)\n",
      " |    |    |-- profile_image_url_https: string (nullable = true)\n",
      " |    |    |-- protected: boolean (nullable = true)\n",
      " |    |    |-- screen_name: string (nullable = true)\n",
      " |    |    |-- verified: boolean (nullable = true)\n",
      " |-- source: string (nullable = true)\n",
      " |-- text: string (nullable = true)\n",
      " |-- user: struct (nullable = true)\n",
      " |    |-- id: long (nullable = true)\n",
      " |    |-- id_str: string (nullable = true)\n",
      " |    |-- name: string (nullable = true)\n",
      " |    |-- profile_image_url_https: string (nullable = true)\n",
      " |    |-- protected: boolean (nullable = true)\n",
      " |    |-- screen_name: string (nullable = true)\n",
      " |    |-- verified: boolean (nullable = true)\n",
      "\n"
     ]
    }
   ],
   "source": [
    "tweetDataFrame = sqlContext.read.json('group_assignment/tweets/tweets_extended.json')\n",
    "tweetDataFrame.printSchema()"
   ]
  },
  {
   "cell_type": "code",
   "execution_count": 2,
   "metadata": {
    "collapsed": false
   },
   "outputs": [
    {
     "data": {
      "text/plain": [
       "(1, 12)"
      ]
     },
     "execution_count": 2,
     "metadata": {},
     "output_type": "execute_result"
    },
    {
     "data": {
      "image/png": "[encoded data removed]",
      "text/plain": [
       "<matplotlib.figure.Figure at 0xb1fee6ac>"
      ]
     },
     "metadata": {},
     "output_type": "display_data"
    }
   ],
   "source": [
    "\"\"\"\n",
    "group by date month tweets\n",
    "\"\"\"\n",
    "import datetime\n",
    "\n",
    "dates = tweetDataFrame.select('created_at').map(lambda x: datetime.datetime.fromtimestamp(x[0] / 1e3))\n",
    "dates = dates.groupBy(lambda x: x.month).sortByKey()\n",
    "dates = dates.map(lambda x : (x[0], len(list(x[1])))).collect()\n",
    "x,y = zip(*dates)\n",
    "\n",
    "import matplotlib.pyplot as plt\n",
    "plt.figure()\n",
    "plt.bar(x,y)\n",
    "plt.xlim(1,12)\n",
    "\n",
    "\n",
    "\n",
    "\n"
   ]
  },
  {
   "cell_type": "code",
   "execution_count": 49,
   "metadata": {
    "collapsed": false
   },
   "outputs": [],
   "source": [
    "\"\"\"\n",
    "EXTRACTING THE MMA TWEETS\n",
    "\"\"\"\n",
    "import re\n",
    "\n",
    "def filter_mma(row):\n",
    "    \"\"\"\n",
    "    filters mma row\n",
    "    \"\"\"\n",
    "    #variable contains list of meaningful MMA expressions, after cleaning expressions such as\n",
    "    #u'TOMMARRS', u'DILEMMA', u'SUMMARY', u'MUHAMMAD_WAKAS',u'SUMMARIZING', u'SUMMARIZED' ....\n",
    "    \n",
    "    mma_accepted = ['MMA_BLOG', 'SMMMAGAZINE', 'MMA_CRM', 'MMA', 'BIG', 'BIGDATA', 'SASANALYTICS', 'ANALYTICS', 'ANALYSIS', 'RSTATS', 'STATFACT', 'AMSTATNEWS' 'STATISTICIANS', 'STATS', 'STAT', 'STATISTICAL', 'MASTAT', 'DATASCIENCE', 'SCIENTIST'] \n",
    "    \n",
    "    #start matching\n",
    "    regex_p1 =  r'(\\w*%s\\w*)' % 'MMA'\n",
    "    regex_p2 =  r'(\\w*%s\\w*)' % 'BIG'\n",
    "    regex_p3 =  r'(\\w*%s\\w*)' % 'ANALY'\n",
    "    regex_p4 =  r'(\\w*%s\\w*)' % 'STAT'\n",
    "    regex_p5 =  r'(\\w*%s\\w*)' % 'SCIENTIST'\n",
    "    regex_p5 =  r'(\\w*%s\\w*)' % 'DATASCIENCE'\n",
    "    results = re.findall(regex_p1, row.text.upper()) + re.findall(regex_p2, row.text.upper()) + re.findall(regex_p3, row.text.upper()) + re.findall(regex_p4, row.text.upper())\n",
    "    #now see if one of the expression is an 'accepted' expression\n",
    "    results = [r for r in results if r in mma_accepted]\n",
    "    \n",
    "    if len(results) > 0:\n",
    "        return True\n",
    "    return False\n",
    "    \n",
    "    \n",
    "#mma_tweets = tweetDataFrame.selectExpr('id', 'created_at', 'text', 'entities.hashtags.text').rdd\n",
    "#mma_tweets = mma_tweets.filter(lambda x: filter_mma(x))#.collect()\n",
    "\n",
    "mma_tweets = tweetDataFrame.rdd#.selectExpr('id', 'created_at', 'text', 'entities.hashtags.text').rdd\n",
    "mma_tweets = mma_tweets.filter(lambda x: filter_mma(x))#.collect()\n",
    "\n",
    "#for t in mma_tweets:\n",
    "#    print t.text +  '\\n'\n",
    "\n",
    "\n"
   ]
  },
  {
   "cell_type": "code",
   "execution_count": 50,
   "metadata": {
    "collapsed": false
   },
   "outputs": [
    {
     "data": {
      "text/plain": [
       "[Row(created_at=1421145736000L, entities=Row(hashtags=[Row(indices=[12, 19], text=u'rstats'), Row(indices=[46, 56], text=u'Analytics')], media=[Row(display_url=u'pic.twitter.com/zWJYW4fyLH', expanded_url=u'http://twitter.com/dirkvandenpoel/status/554951556899299328/photo/1', id=554951534987845632L, id_str=u'554951534987845632', indices=[115, 137], media_url=u'http://pbs.twimg.com/media/B7OVexaCIAArAKZ.jpg', media_url_https=u'https://pbs.twimg.com/media/B7OVexaCIAArAKZ.jpg', sizes=[Row(h=255, resize=u'fit', w=340), Row(h=450, resize=u'fit', w=600), Row(h=768, resize=u'fit', w=1024), Row(h=150, resize=u'crop', w=150), Row(h=768, resize=u'fit', w=1024)], url=u'http://t.co/zWJYW4fyLH')], urls=[], user_mentions=[Row(id=397308843, id_str=u'397308843', indices=[66, 73], name=u'MarketingEngineering', screen_name=u'HIR_ME'), Row(id=221873535, id_str=u'221873535', indices=[78, 86], name=u'Marketing Analytics', screen_name=u'MMA_CRM'), Row(id=491262150, id_str=u'491262150', indices=[90, 103], name=u'Matthias Bogaert', screen_name=u'MatthBogaert')]), geo=Row(coordinates=[51.0436411845, 3.7285115783], type=u'Point'), id=554951556899299328L, id_str=554951556899299328L, in_reply_to_screen_name=None, in_reply_to_status_id=None, in_reply_to_status_id_str=None, in_reply_to_user_id=None, in_reply_to_user_id_str=None, retweeted_status=None, source=u'<a href=\"http://twitter.com/download/iphone\" rel=\"nofollow\">Twitter for iPhone</a>', text=u'Kick-off of #rstats in my Advanced Predictive #Analytics class of @hir_me and @MMA_CRM by @MatthBogaert and Steven http://t.co/zWJYW4fyLH', user=Row(id=60014176, id_str=u'60014176', name=u'Dirk Van den Poel', profile_image_url_https=u'https://pbs.twimg.com/profile_images/607095878499856384/Q79FVTv8_normal.png', protected=False, screen_name=u'dirkvandenpoel', verified=False))]"
      ]
     },
     "execution_count": 50,
     "metadata": {},
     "output_type": "execute_result"
    }
   ],
   "source": [
    "#mma_tweets.count()\n",
    "mma_tweets.take(1)"
   ]
  },
  {
   "cell_type": "code",
   "execution_count": 7,
   "metadata": {
    "collapsed": false
   },
   "outputs": [
    {
     "name": "stdout",
     "output_type": "stream",
     "text": [
      "0.461291616526\n"
     ]
    }
   ],
   "source": [
    "\"\"\"\n",
    "TOYING WITH RETWEETED STATUS AND DATES\n",
    "\"\"\"\n",
    "import datetime\n",
    "from pyspark.sql import Row\n",
    "import numpy as np\n",
    "\"\"\"\n",
    "HELPER FUNCTIONS FOR retweets per tweets\n",
    "\"\"\"\n",
    "def aggregate_retweet_per_tweet(aggregated_dict, twitter_struct):\n",
    "    if twitter_struct['id'] in aggregated_dict:\n",
    "        aggregated_dict[twitter_struct['id']] += twitter_struct['retweet_number']\n",
    "        return aggregated_dict\n",
    "    \n",
    "    aggregated_dict[twitter_struct['id']] = twitter_struct['retweet_number']\n",
    "    return aggregated_dict\n",
    "    \n",
    "\"\"\"\n",
    "execute\n",
    "\"\"\"\n",
    "retweets_per_tweet = tweetDataFrame.selectExpr('id','retweeted_status.id as r_id')\n",
    "retweets_per_tweet = retweets_per_tweet.map(lambda x: {'id' : x.id, 'retweet_number' : 1 if x.r_id else 0}).collect()\n",
    "retweets_per_tweet = reduce(aggregate_retweet_per_tweet, retweets_per_tweet,{}) #going for normal python data type\n",
    "retweets_per_tweet = np.mean([retweets_per_tweet[id] for id in retweets_per_tweet])\n",
    "print retweets_per_tweet #prints averga\n",
    "\n",
    "\n",
    "\"\"\"\n",
    "HELPER FUNCTIONS FOR DELTA DAYS\n",
    "\"\"\"\n",
    "def clean_up_row(row):\n",
    "    \"\"\"\n",
    "    cleans up row and return new row object\n",
    "    \"\"\"\n",
    "    return Row(\n",
    "        id=row.id,\n",
    "        created_at=convert_long_date(row.created_at),\n",
    "        retweeted_at=convert_date_string(row.retweeted_at),\n",
    "        )\n",
    "\n",
    "def convert_long_date(long_date):\n",
    "    return datetime.datetime.fromtimestamp(long_date / 1e3)\n",
    "\n",
    "def convert_date_string(date_string):\n",
    "    \"\"\"\n",
    "    converts e.g. 2015-01-31 12:30:30 +0000\n",
    "    \"\"\"\n",
    "    if not date_string:\n",
    "        return None\n",
    "    return datetime.datetime.strptime(date_string, '%Y-%m-%d %H:%M:%S +0000')\n",
    "\n",
    "def convert_retweeted_at_to_days_since_original_tweet(row):\n",
    "    \"\"\"\n",
    "    returns new Row(id, created_at, retweeted_at_delta in minutes)\n",
    "    \"\"\"\n",
    "    delta = row.created_at - row.retweeted_at\n",
    "    delta =( delta.days * 24 * 60) + (delta.seconds/60) #in minutes\n",
    "    \n",
    "    return Row(\n",
    "        id=row.id,\n",
    "        created_at=row.created_at,\n",
    "        retweeted_at_delta=delta\n",
    "        )\n",
    "\n",
    "def collect_retweeted_days_to_array(row):\n",
    "    \"\"\"\n",
    "    expects Row(id, iterable(Row(created_at, id, retweeted_at_delta_1), ..., Row(created_at, id, retweeted_at_delta_n))\n",
    "    returns [retweeted_at_delta_1, ..., retweeted_at_delta_n]\n",
    "    \"\"\"\n",
    "    return [days for days in row[0]]\n",
    "\n",
    "\"\"\"\n",
    "Execute query\n",
    "\"\"\"\n",
    "test = tweetDataFrame.selectExpr('id','created_at', 'retweeted_status.created_at as retweeted_at')\n",
    "test = test.map(lambda x:  clean_up_row(x))\n",
    "test = test.filter(lambda x: True if x.retweeted_at else False) #remove empty rows (no retweet)\n",
    "test = test.map(lambda x: convert_retweeted_at_to_days_since_original_tweet(x))\n",
    "test = test.groupBy(lambda x: x.id) #group al retweets \n",
    "test = test.collect()\n",
    "\n",
    "\n"
   ]
  },
  {
   "cell_type": "code",
   "execution_count": 8,
   "metadata": {
    "collapsed": false
   },
   "outputs": [
    {
     "data": {
      "text/plain": [
       "[Row(id=561242031977398272L, text=u'RT @fotograaf: Light Festival #Ghent #Belgium @Lichtfestivalge #lichtfestival #gent http://t.co/BPSQzwHQKT', created_at=1422645502000L, retweeted_at=u'2015-01-30 19:06:56 +0000', id=60014176, entities.hashtags[0][text]=u'Ghent')]"
      ]
     },
     "execution_count": 8,
     "metadata": {},
     "output_type": "execute_result"
    }
   ],
   "source": [
    "test = tweetDataFrame.selectExpr('id','text', 'created_at', 'retweeted_status.created_at as retweeted_at', 'user.id', 'entities.hashtags[0].text')\n",
    "test.take(1)"
   ]
  },
  {
   "cell_type": "code",
   "execution_count": 54,
   "metadata": {
    "collapsed": false
   },
   "outputs": [
    {
     "data": {
      "text/plain": [
       "[Row(id=561242031977398272L, created_at=1422645502000L, text=[u'Ghent', u'Belgium', u'lichtfestival', u'gent'])]"
      ]
     },
     "execution_count": 54,
     "metadata": {},
     "output_type": "execute_result"
    }
   ],
   "source": [
    "dates = tweetDataFrame.select('id', 'created_at','entities.hashtags.text')\n",
    "#type(dates)\n",
    "dates.take(1)"
   ]
  },
  {
   "cell_type": "code",
   "execution_count": 60,
   "metadata": {
    "collapsed": false
   },
   "outputs": [
    {
     "name": "stdout",
     "output_type": "stream",
     "text": [
      "0.461291616526\n"
     ]
    },
    {
     "data": {
      "text/plain": [
       "[Row(created_at=datetime.datetime(2015, 1, 30, 19, 18, 22), hashtags=[u'Ghent', u'Belgium', u'lichtfestival', u'gent'], hashtags_count=4, id=561242031977398272L, tweet=u'RT @fotograaf: Light Festival #Ghent #Belgium @Lichtfestivalge #lichtfestival #gent http://t.co/BPSQzwHQKT')]"
      ]
     },
     "execution_count": 60,
     "metadata": {},
     "output_type": "execute_result"
    }
   ],
   "source": [
    "import datetime\n",
    "from pyspark.sql import Row\n",
    "import numpy as np\n",
    "\"\"\"\n",
    "HELPER FUNCTIONS FOR retweets per tweets\n",
    "\"\"\"\n",
    "def aggregate_retweet_per_tweet(aggregated_dict, twitter_struct):\n",
    "    if twitter_struct['id'] in aggregated_dict:\n",
    "        aggregated_dict[twitter_struct['id']] += twitter_struct['retweet_number']\n",
    "        return aggregated_dict\n",
    "    \n",
    "    aggregated_dict[twitter_struct['id']] = twitter_struct['retweet_number']\n",
    "    return aggregated_dict\n",
    "    \n",
    "\"\"\"\n",
    "execute\n",
    "\"\"\"\n",
    "retweets_per_tweet = tweetDataFrame.selectExpr('id','retweeted_status.id as r_id')\n",
    "retweets_per_tweet = retweets_per_tweet.map(lambda x: {'id' : x.id, 'retweet_number' : 1 if x.r_id else 0}).collect()\n",
    "retweets_per_tweet = reduce(aggregate_retweet_per_tweet, retweets_per_tweet,{}) #going for normal python data type\n",
    "retweets_per_tweet = np.mean([retweets_per_tweet[id] for id in retweets_per_tweet])\n",
    "print retweets_per_tweet #prints averga\n",
    "\n",
    "\n",
    "\"\"\"\n",
    "HELPER FUNCTIONS FOR DELTA DAYS\n",
    "\"\"\"\n",
    "def clean_up_row(row):\n",
    "    \"\"\"\n",
    "    cleans up row and return new row object\n",
    "    \"\"\"\n",
    "    return Row(       \n",
    "        id=row.id,\n",
    "        hashtags=row.hashtags,\n",
    "        hashtags_count = len(row.hashtags),\n",
    "        tweet=row.text,\n",
    "        created_at=convert_long_date(row.created_at),\n",
    "        #retweeted_at=convert_date_string(row.retweeted_at),\n",
    "        )\n",
    "\n",
    "def convert_long_date(long_date):\n",
    "    return datetime.datetime.fromtimestamp(long_date / 1e3)\n",
    "\n",
    "def convert_date_string(date_string):\n",
    "    \"\"\"\n",
    "    converts e.g. 2015-01-31 12:30:30 +0000\n",
    "    \"\"\"\n",
    "    if not date_string:\n",
    "        return None\n",
    "    return datetime.datetime.strptime(date_string, '%Y-%m-%d %H:%M:%S +0000')\n",
    "\n",
    "\n",
    "\n",
    "\"\"\"\n",
    "Execute query\n",
    "\"\"\"\n",
    "\n",
    "tweets = tweetDataFrame.selectExpr('id', 'created_at','text','entities.hashtags.text as hashtags')\n",
    "tweets_clean = tweets.map( lambda x:  clean_up_row(x))\n",
    "#test = test.flatmap(lambda x: x.hashtags())\n",
    "tweets_clean.take(1)\n",
    "#test = test.filter(lambda x: True if x.retweeted_at else False) #remove empty rows (no retweet)\n",
    "#test = test.map(lambda x: convert_retweeted_at_to_days_since_original_tweet(x))\n",
    "#test = test.groupBy(lambda x: x.id) #group al retweets \n",
    "#test = test.collect()\n",
    "\n"
   ]
  }
 ],
 "metadata": {
  "kernelspec": {
   "display_name": "Python 2",
   "language": "python",
   "name": "python2"
  },
  "language_info": {
   "codemirror_mode": {
    "name": "ipython",
    "version": 2
   },
   "file_extension": ".py",
   "mimetype": "text/x-python",
   "name": "python",
   "nbconvert_exporter": "python",
   "pygments_lexer": "ipython2",
   "version": "2.7.6"
  }
 },
 "nbformat": 4,
 "nbformat_minor": 0
}
